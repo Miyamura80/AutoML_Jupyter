{
 "cells": [
  {
   "cell_type": "markdown",
   "metadata": {},
   "source": [
    "# Title"
   ]
  },
  {
   "cell_type": "code",
   "execution_count": 1,
   "metadata": {
    "execution": {
     "iopub.execute_input": "2023-07-10T06:33:32.166149Z",
     "iopub.status.busy": "2023-07-10T06:33:32.164925Z",
     "iopub.status.idle": "2023-07-10T06:33:32.176987Z",
     "shell.execute_reply": "2023-07-10T06:33:32.175883Z"
    }
   },
   "outputs": [
    {
     "name": "stdout",
     "output_type": "stream",
     "text": [
      "Hello world 3\n"
     ]
    }
   ],
   "source": [
    "print(\"Hello world 3 232311\")"
   ]
  },
  {
   "cell_type": "code",
   "execution_count": 2,
   "metadata": {
    "execution": {
     "iopub.execute_input": "2023-07-10T06:33:32.219664Z",
     "iopub.status.busy": "2023-07-10T06:33:32.219312Z",
     "iopub.status.idle": "2023-07-10T06:33:32.225157Z",
     "shell.execute_reply": "2023-07-10T06:33:32.223944Z"
    },
    "tags": []
   },
   "outputs": [
    {
     "name": "stdout",
     "output_type": "stream",
     "text": [
      "Hello world 2\n"
     ]
    }
   ],
   "source": [
    "print(\"Hello world 2 323\")\n",
    "print(3/0)"
   ]
  },
  {
   "cell_type": "code",
   "execution_count": 3,
   "metadata": {
    "execution": {
     "iopub.execute_input": "2023-07-10T06:33:32.228767Z",
     "iopub.status.busy": "2023-07-10T06:33:32.228426Z",
     "iopub.status.idle": "2023-07-10T06:33:32.234599Z",
     "shell.execute_reply": "2023-07-10T06:33:32.233380Z"
    },
    "tags": []
   },
   "outputs": [
    {
     "name": "stdout",
     "output_type": "stream",
     "text": [
      "Hello world 1\n"
     ]
    }
   ],
   "source": [
    "print(\"Hello world 1 3232\")"
   ]
  }
 ],
 "metadata": {
  "language_info": {
   "codemirror_mode": {
    "name": "ipython",
    "version": 3
   },
   "file_extension": ".py",
   "mimetype": "text/x-python",
   "name": "python",
   "nbconvert_exporter": "python",
   "pygments_lexer": "ipython3",
   "version": "3.10.6"
  }
 },
 "nbformat": 4,
 "nbformat_minor": 2
}
